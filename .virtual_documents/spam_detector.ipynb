


import pandas as pd
from sklearn.model_selection import train_test_split
from sklearn.metrics import accuracy_score
import numpy as np





# Import the data
data = pd.read_csv("https://static.bc-edx.com/ai/ail-v-1-0/m13/challenge/spam-data.csv")
data.head()


data.shape











# Create the labels set `y` and features DataFrame `X`
X = data.drop(columns=['spam'])
y = data['spam']


# Check the balance of the labels variable (`y`) by using the `value_counts` function.
y.value_counts()


# Split the data into X_train, X_test, y_train, y_test
X_train, X_test, y_train, y_test = train_test_split(X, y, random_state=1, stratify=y)

X_test.head()








from sklearn.preprocessing import StandardScaler

# Create the StandardScaler instance
scaler = StandardScaler()


# Fit the Standard Scaler with the training data
scaler.fit(X_train)


# Scale the training data
X_train_scaled = scaler.transform(X_train)
X_test_scaled = scaler.transform(X_test)





# Train a Logistic Regression model and print the model score
from sklearn.linear_model import LogisticRegression

logistic_model = LogisticRegression(random_state=1)
logistic_model.fit(X_train_scaled, y_train)


# Make and save testing predictions with the saved logistic regression model using the test data
y_pred = logistic_model.predict(X_test_scaled)

# Save predictions to a CSV file
#np.savetxt("predictions.csv", y_pred, delimiter=",")

# Review the predictions
print("Predictions:")
y_pred[:]


# Calculate the accuracy score by evaluating `y_test` vs. `testing_predictions`.
accuracy = accuracy_score(y_test, y_pred)
print(f"Accuracy Score: {accuracy}")





# Train a Random Forest Classifier model and print the model score
from sklearn.ensemble import RandomForestClassifier

randomf_model = RandomForestClassifier(random_state=1)
randomf_model.fit(X_train_scaled, y_train)


# Make and save testing predictions with the saved logistic regression model using the test data
y_pred_rf = randomf_model.predict(X_test_scaled)

# Review the predictions
y_pred_rf


# Calculate the accuracy score by evaluating `y_test` vs. `testing_predictions`.
rf_accuracy = accuracy_score(y_test, y_pred_rf)
print(f"Random Forest Model Accuracy: {rf_accuracy}")









